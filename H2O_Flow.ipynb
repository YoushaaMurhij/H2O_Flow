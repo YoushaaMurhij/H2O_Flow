{
  "nbformat": 4,
  "nbformat_minor": 0,
  "metadata": {
    "colab": {
      "name": "Copy of H2O_Flow",
      "provenance": [],
      "collapsed_sections": [],
      "include_colab_link": true
    },
    "kernelspec": {
      "name": "python3",
      "display_name": "Python 3"
    },
    "accelerator": "GPU"
  },
  "cells": [
    {
      "cell_type": "markdown",
      "metadata": {
        "id": "view-in-github",
        "colab_type": "text"
      },
      "source": [
        "<a href=\"https://colab.research.google.com/github/YoushaaMurhij/H2O_Flow/blob/master/H2O_Flow.ipynb\" target=\"_parent\"><img src=\"https://colab.research.google.com/assets/colab-badge.svg\" alt=\"Open In Colab\"/></a>"
      ]
    },
    {
      "cell_type": "code",
      "metadata": {
        "id": "KFs57E-6hM8l",
        "colab_type": "code",
        "outputId": "70d9aeb0-1725-40f0-caa0-24731697edad",
        "colab": {
          "base_uri": "https://localhost:8080/",
          "height": 370
        }
      },
      "source": [
        "# Download h2o\n",
        "!wget -c http://h2o-release.s3.amazonaws.com/h2o/rel-xia/2/h2o-3.22.0.2.zip\n",
        "!unzip -n h2o-3.22.0.2.zip \n",
        "#!pip install h2o #h2o 3.28.0.2\n",
        "# Install ngrok\n",
        "! wget -q -c -nc https://bin.equinox.io/c/4VmDzA7iaHb/ngrok-stable-linux-amd64.zip\n",
        "! unzip -qq -n ngrok-stable-linux-amd64.zip"
      ],
      "execution_count": 0,
      "outputs": [
        {
          "output_type": "stream",
          "text": [
            "--2020-01-30 16:46:37--  http://h2o-release.s3.amazonaws.com/h2o/rel-xia/2/h2o-3.22.0.2.zip\n",
            "Resolving h2o-release.s3.amazonaws.com (h2o-release.s3.amazonaws.com)... 52.216.26.52\n",
            "Connecting to h2o-release.s3.amazonaws.com (h2o-release.s3.amazonaws.com)|52.216.26.52|:80... connected.\n",
            "HTTP request sent, awaiting response... 200 OK\n",
            "Length: 362763375 (346M) [application/zip]\n",
            "Saving to: ‘h2o-3.22.0.2.zip’\n",
            "\n",
            "h2o-3.22.0.2.zip    100%[===================>] 345.96M  51.8MB/s    in 7.2s    \n",
            "\n",
            "2020-01-30 16:46:44 (47.9 MB/s) - ‘h2o-3.22.0.2.zip’ saved [362763375/362763375]\n",
            "\n",
            "Archive:  h2o-3.22.0.2.zip\n",
            "   creating: h2o-3.22.0.2/\n",
            "   creating: h2o-3.22.0.2/bindings/\n",
            "   creating: h2o-3.22.0.2/bindings/java/\n",
            " extracting: h2o-3.22.0.2/bindings/java/h2o-bindings-3.22.0.zip  \n",
            "  inflating: h2o-3.22.0.2/h2o.jar    \n",
            "   creating: h2o-3.22.0.2/python/\n",
            "  inflating: h2o-3.22.0.2/python/h2o-3.22.0.2-py2.py3-none-any.whl  \n",
            "   creating: h2o-3.22.0.2/R/\n",
            "  inflating: h2o-3.22.0.2/R/h2o_3.22.0.2.tar.gz  \n"
          ],
          "name": "stdout"
        }
      ]
    },
    {
      "cell_type": "code",
      "metadata": {
        "id": "8MnDqhLPDsP1",
        "colab_type": "code",
        "outputId": "cd17f3a4-127c-47f9-dd7f-3e44743b2be7",
        "colab": {
          "base_uri": "https://localhost:8080/",
          "height": 50
        }
      },
      "source": [
        "NGROK_AUTH = \"\" #your code goes here!\n",
        "\n",
        "from time import sleep\n",
        "from IPython.display import clear_output\n",
        "import requests\n",
        "import json\n",
        "\n",
        "# keep everything running\n",
        "i=0\n",
        "while True:\n",
        "  try:\n",
        "    # start h2o\n",
        "    if len(get_ipython().getoutput('ps -ef | grep h2o')) <= 2:\n",
        "      get_ipython().system_raw('java -jar h2o-3.22.0.2/h2o.jar &') #H2O version here!\n",
        "      sleep(5)\n",
        "\n",
        "    ngrok_link = json.loads(requests.get('http://localhost:4040/api/tunnels').text)['tunnels'][0]['public_url']\n",
        "    print(ngrok_link)\n",
        "    sleep(30)\n",
        "    requests.get(ngrok_link)\n",
        "  except (KeyboardInterrupt, SystemExit):\n",
        "      raise\n",
        "  except:\n",
        "    # create ngrok port\n",
        "    get_ipython().system_raw('./ngrok authtoken $NGROK_AUTH && ./ngrok http 54321 &')\n",
        "  i+=1\n",
        "  if i >=5:\n",
        "    clear_output(wait=True)\n",
        "    i=0\n"
      ],
      "execution_count": 0,
      "outputs": [
        {
          "output_type": "stream",
          "text": [
            "http://c472ed30.ngrok.io\n",
            "http://c472ed30.ngrok.io\n"
          ],
          "name": "stdout"
        }
      ]
    },
    {
      "cell_type": "code",
      "metadata": {
        "id": "tdg8V79u3-Xt",
        "colab_type": "code",
        "colab": {}
      },
      "source": [
        ""
      ],
      "execution_count": 0,
      "outputs": []
    }
  ]
}