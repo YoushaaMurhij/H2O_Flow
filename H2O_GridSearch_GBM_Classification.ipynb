{
  "nbformat": 4,
  "nbformat_minor": 0,
  "metadata": {
    "kernelspec": {
      "display_name": "Python 2",
      "language": "python",
      "name": "python2"
    },
    "language_info": {
      "codemirror_mode": {
        "name": "ipython",
        "version": 2
      },
      "file_extension": ".py",
      "mimetype": "text/x-python",
      "name": "python",
      "nbconvert_exporter": "python",
      "pygments_lexer": "ipython2",
      "version": "2.7.13"
    },
    "colab": {
      "name": "Copy of H2O-GridSearch-GBM-Titanic-Classification.ipynb",
      "provenance": []
    }
  },
  "cells": [
    {
      "cell_type": "markdown",
      "metadata": {
        "id": "rMI2kV0wLhhf",
        "colab_type": "text"
      },
      "source": [
        "###Loading H2O Library\n"
      ]
    },
    {
      "cell_type": "code",
      "metadata": {
        "id": "l0WLIQuL62ZJ",
        "colab_type": "code",
        "colab": {}
      },
      "source": [
        "!pip install h2o\n",
        "import h2o"
      ],
      "execution_count": 0,
      "outputs": []
    },
    {
      "cell_type": "markdown",
      "metadata": {
        "id": "Z8ugtS-QLmrV",
        "colab_type": "text"
      },
      "source": [
        " Get H2O Version"
      ]
    },
    {
      "cell_type": "code",
      "metadata": {
        "id": "erVWyOsf62Zp",
        "colab_type": "code",
        "outputId": "e5d60db5-bdff-49fc-a134-6ed8e3b9fd24",
        "colab": {
          "base_uri": "https://localhost:8080/",
          "height": 34
        }
      },
      "source": [
        "h2o.__version__"
      ],
      "execution_count": 0,
      "outputs": [
        {
          "output_type": "execute_result",
          "data": {
            "text/plain": [
              "u'3.28.0.3'"
            ]
          },
          "metadata": {
            "tags": []
          },
          "execution_count": 6
        }
      ]
    },
    {
      "cell_type": "markdown",
      "metadata": {
        "id": "s8SYHK6hLrC3",
        "colab_type": "text"
      },
      "source": [
        "###Initalizing H2O cluster"
      ]
    },
    {
      "cell_type": "code",
      "metadata": {
        "id": "TP0dSjX462Z3",
        "colab_type": "code",
        "outputId": "95be4ada-8374-4ba8-f197-9c8556b55b22",
        "colab": {
          "base_uri": "https://localhost:8080/",
          "height": 439
        }
      },
      "source": [
        "h2o.init()"
      ],
      "execution_count": 0,
      "outputs": [
        {
          "output_type": "stream",
          "text": [
            "Checking whether there is an H2O instance running at http://localhost:54321 . connected.\n"
          ],
          "name": "stdout"
        },
        {
          "output_type": "display_data",
          "data": {
            "text/plain": [
              "--------------------------  ------------------------------------------------------------------\n",
              "H2O cluster uptime:         4 mins 08 secs\n",
              "H2O cluster timezone:       Etc/UTC\n",
              "H2O data parsing timezone:  UTC\n",
              "H2O cluster version:        3.28.0.3\n",
              "H2O cluster version age:    1 month and 1 day\n",
              "H2O cluster name:           H2O_from_python_unknownUser_vb1fi1\n",
              "H2O cluster total nodes:    1\n",
              "H2O cluster free memory:    3 Gb\n",
              "H2O cluster total cores:    2\n",
              "H2O cluster allowed cores:  2\n",
              "H2O cluster status:         locked, healthy\n",
              "H2O connection url:         http://localhost:54321\n",
              "H2O connection proxy:       {u'http': None, u'https': None}\n",
              "H2O internal security:      False\n",
              "H2O API Extensions:         Amazon S3, XGBoost, Algos, AutoML, Core V3, TargetEncoder, Core V4\n",
              "Python version:             2.7.17 final\n",
              "--------------------------  ------------------------------------------------------------------"
            ],
            "text/html": [
              "<div style=\"overflow:auto\"><table style=\"width:50%\"><tr><td>H2O cluster uptime:</td>\n",
              "<td>4 mins 08 secs</td></tr>\n",
              "<tr><td>H2O cluster timezone:</td>\n",
              "<td>Etc/UTC</td></tr>\n",
              "<tr><td>H2O data parsing timezone:</td>\n",
              "<td>UTC</td></tr>\n",
              "<tr><td>H2O cluster version:</td>\n",
              "<td>3.28.0.3</td></tr>\n",
              "<tr><td>H2O cluster version age:</td>\n",
              "<td>1 month and 1 day </td></tr>\n",
              "<tr><td>H2O cluster name:</td>\n",
              "<td>H2O_from_python_unknownUser_vb1fi1</td></tr>\n",
              "<tr><td>H2O cluster total nodes:</td>\n",
              "<td>1</td></tr>\n",
              "<tr><td>H2O cluster free memory:</td>\n",
              "<td>3 Gb</td></tr>\n",
              "<tr><td>H2O cluster total cores:</td>\n",
              "<td>2</td></tr>\n",
              "<tr><td>H2O cluster allowed cores:</td>\n",
              "<td>2</td></tr>\n",
              "<tr><td>H2O cluster status:</td>\n",
              "<td>locked, healthy</td></tr>\n",
              "<tr><td>H2O connection url:</td>\n",
              "<td>http://localhost:54321</td></tr>\n",
              "<tr><td>H2O connection proxy:</td>\n",
              "<td>{u'http': None, u'https': None}</td></tr>\n",
              "<tr><td>H2O internal security:</td>\n",
              "<td>False</td></tr>\n",
              "<tr><td>H2O API Extensions:</td>\n",
              "<td>Amazon S3, XGBoost, Algos, AutoML, Core V3, TargetEncoder, Core V4</td></tr>\n",
              "<tr><td>Python version:</td>\n",
              "<td>2.7.17 final</td></tr></table></div>"
            ]
          },
          "metadata": {
            "tags": []
          }
        }
      ]
    },
    {
      "cell_type": "markdown",
      "metadata": {
        "id": "DUiHub2xLwW-",
        "colab_type": "text"
      },
      "source": [
        "Importing both training and test dataset into H2O cluster memory"
      ]
    },
    {
      "cell_type": "code",
      "metadata": {
        "id": "PyOARx7662aJ",
        "colab_type": "code",
        "outputId": "503cde0d-dcaa-4bdc-ee84-80d284a9fd6e",
        "colab": {
          "base_uri": "https://localhost:8080/",
          "height": 34
        }
      },
      "source": [
        "df = h2o.import_file(\"train.csv\")"
      ],
      "execution_count": 0,
      "outputs": [
        {
          "output_type": "stream",
          "text": [
            "Parse progress: |█████████████████████████████████████████████████████████| 100%\n"
          ],
          "name": "stdout"
        }
      ]
    },
    {
      "cell_type": "markdown",
      "metadata": {
        "id": "hx9OzWizLzAu",
        "colab_type": "text"
      },
      "source": [
        "Understanding the dataset"
      ]
    },
    {
      "cell_type": "code",
      "metadata": {
        "id": "TvmYVTNd62ah",
        "colab_type": "code",
        "outputId": "3705b642-962d-47e9-accc-7b8173f5fc0d",
        "colab": {
          "base_uri": "https://localhost:8080/",
          "height": 466
        }
      },
      "source": [
        "df.describe()"
      ],
      "execution_count": 0,
      "outputs": [
        {
          "output_type": "stream",
          "text": [
            "Rows:10000\n",
            "Cols:12\n",
            "\n",
            "\n"
          ],
          "name": "stdout"
        },
        {
          "output_type": "display_data",
          "data": {
            "text/html": [
              "<table>\n",
              "<thead>\n",
              "<tr><th>       </th><th>Allied_Nations  </th><th>Diplomatic_Meetings_Set  </th><th>Percent_Of_Forces_Mobilized  </th><th>Hostile_Nations  </th><th>Active_Threats  </th><th>Inactive_Threats  </th><th>Citizen_Fear_Index  </th><th>Closest_Threat_Distance(km)  </th><th>Aircraft_Carriers_Responding  </th><th>Troops_Mobilized(thousands)  </th><th>DEFCON_Level  </th><th>ID           </th></tr>\n",
              "</thead>\n",
              "<tbody>\n",
              "<tr><td>type   </td><td>int             </td><td>int                      </td><td>real                         </td><td>int              </td><td>real            </td><td>real              </td><td>real                </td><td>real                         </td><td>int                           </td><td>real                         </td><td>int           </td><td>int          </td></tr>\n",
              "<tr><td>mins   </td><td>5.0             </td><td>0.0                      </td><td>0.0                          </td><td>1.0              </td><td>1.0             </td><td>6.0               </td><td>0.0                 </td><td>290.44                       </td><td>0.0                           </td><td>739200.0                     </td><td>1.0           </td><td>2.0          </td></tr>\n",
              "<tr><td>mean   </td><td>8.3178          </td><td>0.5241                   </td><td>0.270548                     </td><td>2.5023           </td><td>15.7543         </td><td>46.5346           </td><td>0.486638986784      </td><td>350.885758                   </td><td>0.8913                        </td><td>917487.413333                </td><td>2.6166        </td><td>6266.5542    </td></tr>\n",
              "<tr><td>maxs   </td><td>16.0            </td><td>2.0                      </td><td>1.0                          </td><td>16.0             </td><td>72.0            </td><td>289.0             </td><td>1.0                 </td><td>425.06                       </td><td>2.0                           </td><td>1311200.0                    </td><td>5.0           </td><td>12500.0      </td></tr>\n",
              "<tr><td>sigma  </td><td>1.74880215888   </td><td>0.50024415481            </td><td>0.196433648629               </td><td>1.31178000697    </td><td>10.3889063162   </td><td>34.012648954      </td><td>0.134551819169      </td><td>16.2857440478                </td><td>0.329082268611                </td><td>92717.640162                 </td><td>0.802788195534</td><td>3610.17028784</td></tr>\n",
              "<tr><td>zeros  </td><td>0               </td><td>4763                     </td><td>898                          </td><td>0                </td><td>0               </td><td>0                 </td><td>7                   </td><td>0                            </td><td>1144                          </td><td>0                            </td><td>0             </td><td>0            </td></tr>\n",
              "<tr><td>missing</td><td>0               </td><td>0                        </td><td>0                            </td><td>0                </td><td>0               </td><td>0                 </td><td>0                   </td><td>0                            </td><td>0                             </td><td>0                            </td><td>0             </td><td>0            </td></tr>\n",
              "<tr><td>0      </td><td>16.0            </td><td>1.0                      </td><td>0.67                         </td><td>3.0              </td><td>6.0             </td><td>25.0              </td><td>0.787812041116      </td><td>324.36                       </td><td>1.0                           </td><td>862400.0                     </td><td>3.0           </td><td>7570.0       </td></tr>\n",
              "<tr><td>1      </td><td>8.0             </td><td>1.0                      </td><td>0.11                         </td><td>2.0              </td><td>38.0            </td><td>48.0              </td><td>0.419236417034      </td><td>359.34                       </td><td>0.0                           </td><td>959200.0                     </td><td>4.0           </td><td>12128.0      </td></tr>\n",
              "<tr><td>2      </td><td>9.0             </td><td>1.0                      </td><td>0.49                         </td><td>3.0              </td><td>32.0            </td><td>69.0              </td><td>0.582232011747      </td><td>332.84                       </td><td>1.0                           </td><td>836000.0                     </td><td>3.0           </td><td>2181.0       </td></tr>\n",
              "<tr><td>3      </td><td>7.0             </td><td>0.0                      </td><td>0.3                          </td><td>2.0              </td><td>31.0            </td><td>52.0              </td><td>0.589574155653      </td><td>358.28                       </td><td>1.0                           </td><td>924000.0                     </td><td>3.0           </td><td>5946.0       </td></tr>\n",
              "<tr><td>4      </td><td>8.0             </td><td>1.0                      </td><td>0.12                         </td><td>5.0              </td><td>13.0            </td><td>42.0              </td><td>0.552863436123      </td><td>364.64                       </td><td>0.0                           </td><td>968000.0                     </td><td>2.0           </td><td>9054.0       </td></tr>\n",
              "<tr><td>5      </td><td>6.0             </td><td>1.0                      </td><td>0.1                          </td><td>2.0              </td><td>4.0             </td><td>11.0              </td><td>0.508810572687      </td><td>387.96                       </td><td>1.0                           </td><td>880000.0                     </td><td>2.0           </td><td>10947.0      </td></tr>\n",
              "<tr><td>6      </td><td>7.0             </td><td>1.0                      </td><td>0.08                         </td><td>2.0              </td><td>42.0            </td><td>52.0              </td><td>0.357562408223      </td><td>349.8                        </td><td>1.0                           </td><td>1038400.0                    </td><td>4.0           </td><td>4717.0       </td></tr>\n",
              "<tr><td>7      </td><td>8.0             </td><td>1.0                      </td><td>0.1                          </td><td>2.0              </td><td>34.0            </td><td>45.0              </td><td>0.37812041116       </td><td>348.74                       </td><td>1.0                           </td><td>1038400.0                    </td><td>4.0           </td><td>8008.0       </td></tr>\n",
              "<tr><td>8      </td><td>10.0            </td><td>0.0                      </td><td>0.65                         </td><td>7.0              </td><td>18.0            </td><td>39.0              </td><td>0.656387665198      </td><td>333.9                        </td><td>1.0                           </td><td>959200.0                     </td><td>2.0           </td><td>8179.0       </td></tr>\n",
              "<tr><td>9      </td><td>8.0             </td><td>0.0                      </td><td>0.29                         </td><td>3.0              </td><td>18.0            </td><td>58.0              </td><td>0.618942731278      </td><td>349.8                        </td><td>1.0                           </td><td>800800.0                     </td><td>2.0           </td><td>6324.0       </td></tr>\n",
              "</tbody>\n",
              "</table>"
            ]
          },
          "metadata": {
            "tags": []
          }
        }
      ]
    },
    {
      "cell_type": "markdown",
      "metadata": {
        "id": "a4-_ohzvL2zW",
        "colab_type": "text"
      },
      "source": [
        "Listing all columns"
      ]
    },
    {
      "cell_type": "code",
      "metadata": {
        "id": "Pdp03T3H62ay",
        "colab_type": "code",
        "outputId": "1f322223-4991-4ff0-d0df-ab75549ec6a1",
        "colab": {
          "base_uri": "https://localhost:8080/",
          "height": 218
        }
      },
      "source": [
        "df.col_names"
      ],
      "execution_count": 0,
      "outputs": [
        {
          "output_type": "execute_result",
          "data": {
            "text/plain": [
              "[u'Allied_Nations',\n",
              " u'Diplomatic_Meetings_Set',\n",
              " u'Percent_Of_Forces_Mobilized',\n",
              " u'Hostile_Nations',\n",
              " u'Active_Threats',\n",
              " u'Inactive_Threats',\n",
              " u'Citizen_Fear_Index',\n",
              " u'Closest_Threat_Distance(km)',\n",
              " u'Aircraft_Carriers_Responding',\n",
              " u'Troops_Mobilized(thousands)',\n",
              " u'DEFCON_Level',\n",
              " u'ID']"
            ]
          },
          "metadata": {
            "tags": []
          },
          "execution_count": 15
        }
      ]
    },
    {
      "cell_type": "markdown",
      "metadata": {
        "id": "WFOC94SFL6nH",
        "colab_type": "text"
      },
      "source": [
        "Setting response variable"
      ]
    },
    {
      "cell_type": "code",
      "metadata": {
        "id": "NlFy_2ns62bA",
        "colab_type": "code",
        "colab": {}
      },
      "source": [
        "response = \"DEFCON_Level\""
      ],
      "execution_count": 0,
      "outputs": []
    },
    {
      "cell_type": "markdown",
      "metadata": {
        "id": "dNLStv1OL9Jb",
        "colab_type": "text"
      },
      "source": [
        "Setting response variable to enum or categorical so we can build a classification model"
      ]
    },
    {
      "cell_type": "code",
      "metadata": {
        "id": "wuk9Ss4K62bN",
        "colab_type": "code",
        "colab": {}
      },
      "source": [
        "df[response] = df[response].asfactor()"
      ],
      "execution_count": 0,
      "outputs": []
    },
    {
      "cell_type": "markdown",
      "metadata": {
        "id": "iJtDHxzoMBlh",
        "colab_type": "text"
      },
      "source": [
        "Spliting the dataset into train and test "
      ]
    },
    {
      "cell_type": "code",
      "metadata": {
        "id": "9uvE7PA862ba",
        "colab_type": "code",
        "colab": {}
      },
      "source": [
        "train_df, test_df = df.split_frame(ratios=[0.9])"
      ],
      "execution_count": 0,
      "outputs": []
    },
    {
      "cell_type": "code",
      "metadata": {
        "id": "4r_Y8l2y62bi",
        "colab_type": "code",
        "outputId": "ff36544c-94bc-4ee3-ed1c-988ad2b1e0f0",
        "colab": {
          "base_uri": "https://localhost:8080/",
          "height": 50
        }
      },
      "source": [
        "print(train_df.shape)\n",
        "print(test_df.shape)"
      ],
      "execution_count": 0,
      "outputs": [
        {
          "output_type": "stream",
          "text": [
            "(8965, 12)\n",
            "(1035, 12)\n"
          ],
          "name": "stdout"
        }
      ]
    },
    {
      "cell_type": "markdown",
      "metadata": {
        "id": "BvmKlHnzMGRU",
        "colab_type": "text"
      },
      "source": [
        "Understanding Training dataset"
      ]
    },
    {
      "cell_type": "code",
      "metadata": {
        "id": "T4invI0W62bp",
        "colab_type": "code",
        "colab": {}
      },
      "source": [
        ""
      ],
      "execution_count": 0,
      "outputs": []
    },
    {
      "cell_type": "code",
      "metadata": {
        "id": "j_L6OuWx62bu",
        "colab_type": "code",
        "outputId": "b5d56b4a-fab4-4ee6-c19c-dd210442928e",
        "colab": {
          "base_uri": "https://localhost:8080/",
          "height": 466
        }
      },
      "source": [
        "train_df.describe()"
      ],
      "execution_count": 0,
      "outputs": [
        {
          "output_type": "stream",
          "text": [
            "Rows:8965\n",
            "Cols:12\n",
            "\n",
            "\n"
          ],
          "name": "stdout"
        },
        {
          "output_type": "display_data",
          "data": {
            "text/html": [
              "<table>\n",
              "<thead>\n",
              "<tr><th>       </th><th>Allied_Nations  </th><th>Diplomatic_Meetings_Set  </th><th>Percent_Of_Forces_Mobilized  </th><th>Hostile_Nations  </th><th>Active_Threats  </th><th>Inactive_Threats  </th><th>Citizen_Fear_Index  </th><th>Closest_Threat_Distance(km)  </th><th>Aircraft_Carriers_Responding  </th><th>Troops_Mobilized(thousands)  </th><th>DEFCON_Level  </th><th>ID           </th></tr>\n",
              "</thead>\n",
              "<tbody>\n",
              "<tr><td>type   </td><td>int             </td><td>int                      </td><td>real                         </td><td>int              </td><td>real            </td><td>real              </td><td>real                </td><td>real                         </td><td>int                           </td><td>real                         </td><td>enum          </td><td>int          </td></tr>\n",
              "<tr><td>mins   </td><td>5.0             </td><td>0.0                      </td><td>0.0                          </td><td>1.0              </td><td>1.0             </td><td>6.0               </td><td>0.0                 </td><td>290.44                       </td><td>0.0                           </td><td>739200.0                     </td><td>              </td><td>2.0          </td></tr>\n",
              "<tr><td>mean   </td><td>8.31622978249   </td><td>0.521807027328           </td><td>0.270619074177               </td><td>2.50429447853    </td><td>15.7611266035   </td><td>46.6294478528     </td><td>0.486196278069      </td><td>350.943121026                </td><td>0.892470719465                </td><td>917601.635992                </td><td>              </td><td>6263.16597881</td></tr>\n",
              "<tr><td>maxs   </td><td>16.0            </td><td>2.0                      </td><td>1.0                          </td><td>16.0             </td><td>72.0            </td><td>289.0             </td><td>1.0                 </td><td>425.06                       </td><td>2.0                           </td><td>1311200.0                    </td><td>              </td><td>12499.0      </td></tr>\n",
              "<tr><td>sigma  </td><td>1.75351017143   </td><td>0.500444550942           </td><td>0.196194798464               </td><td>1.30854998516    </td><td>10.3681867981   </td><td>34.1565377055     </td><td>0.135063811769      </td><td>16.3244209117                </td><td>0.327312044086                </td><td>93172.0946203                </td><td>              </td><td>3604.15693308</td></tr>\n",
              "<tr><td>zeros  </td><td>0               </td><td>4291                     </td><td>802                          </td><td>0                </td><td>0               </td><td>0                 </td><td>7                   </td><td>0                            </td><td>1014                          </td><td>0                            </td><td>              </td><td>0            </td></tr>\n",
              "<tr><td>missing</td><td>0               </td><td>0                        </td><td>0                            </td><td>0                </td><td>0               </td><td>0                 </td><td>0                   </td><td>0                            </td><td>0                             </td><td>0                            </td><td>0             </td><td>0            </td></tr>\n",
              "<tr><td>0      </td><td>16.0            </td><td>1.0                      </td><td>0.67                         </td><td>3.0              </td><td>6.0             </td><td>25.0              </td><td>0.787812041116      </td><td>324.36                       </td><td>1.0                           </td><td>862400.0                     </td><td>3             </td><td>7570.0       </td></tr>\n",
              "<tr><td>1      </td><td>8.0             </td><td>1.0                      </td><td>0.11                         </td><td>2.0              </td><td>38.0            </td><td>48.0              </td><td>0.419236417034      </td><td>359.34                       </td><td>0.0                           </td><td>959200.0                     </td><td>4             </td><td>12128.0      </td></tr>\n",
              "<tr><td>2      </td><td>9.0             </td><td>1.0                      </td><td>0.49                         </td><td>3.0              </td><td>32.0            </td><td>69.0              </td><td>0.582232011747      </td><td>332.84                       </td><td>1.0                           </td><td>836000.0                     </td><td>3             </td><td>2181.0       </td></tr>\n",
              "<tr><td>3      </td><td>7.0             </td><td>0.0                      </td><td>0.3                          </td><td>2.0              </td><td>31.0            </td><td>52.0              </td><td>0.589574155653      </td><td>358.28                       </td><td>1.0                           </td><td>924000.0                     </td><td>3             </td><td>5946.0       </td></tr>\n",
              "<tr><td>4      </td><td>8.0             </td><td>1.0                      </td><td>0.12                         </td><td>5.0              </td><td>13.0            </td><td>42.0              </td><td>0.552863436123      </td><td>364.64                       </td><td>0.0                           </td><td>968000.0                     </td><td>2             </td><td>9054.0       </td></tr>\n",
              "<tr><td>5      </td><td>6.0             </td><td>1.0                      </td><td>0.1                          </td><td>2.0              </td><td>4.0             </td><td>11.0              </td><td>0.508810572687      </td><td>387.96                       </td><td>1.0                           </td><td>880000.0                     </td><td>2             </td><td>10947.0      </td></tr>\n",
              "<tr><td>6      </td><td>8.0             </td><td>1.0                      </td><td>0.1                          </td><td>2.0              </td><td>34.0            </td><td>45.0              </td><td>0.37812041116       </td><td>348.74                       </td><td>1.0                           </td><td>1038400.0                    </td><td>4             </td><td>8008.0       </td></tr>\n",
              "<tr><td>7      </td><td>10.0            </td><td>0.0                      </td><td>0.65                         </td><td>7.0              </td><td>18.0            </td><td>39.0              </td><td>0.656387665198      </td><td>333.9                        </td><td>1.0                           </td><td>959200.0                     </td><td>2             </td><td>8179.0       </td></tr>\n",
              "<tr><td>8      </td><td>8.0             </td><td>0.0                      </td><td>0.29                         </td><td>3.0              </td><td>18.0            </td><td>58.0              </td><td>0.618942731278      </td><td>349.8                        </td><td>1.0                           </td><td>800800.0                     </td><td>2             </td><td>6324.0       </td></tr>\n",
              "<tr><td>9      </td><td>7.0             </td><td>0.0                      </td><td>0.3                          </td><td>2.0              </td><td>35.0            </td><td>53.0              </td><td>0.430983847283      </td><td>342.38                       </td><td>1.0                           </td><td>844800.0                     </td><td>2             </td><td>3789.0       </td></tr>\n",
              "</tbody>\n",
              "</table>"
            ]
          },
          "metadata": {
            "tags": []
          }
        }
      ]
    },
    {
      "cell_type": "code",
      "metadata": {
        "id": "lefztwht62b2",
        "colab_type": "code",
        "colab": {}
      },
      "source": [
        "###: Understanding Test dataset"
      ],
      "execution_count": 0,
      "outputs": []
    },
    {
      "cell_type": "code",
      "metadata": {
        "id": "k7vgiAL762b9",
        "colab_type": "code",
        "outputId": "f4814058-c942-4fe1-c9e6-ed96c0e4576e",
        "colab": {
          "base_uri": "https://localhost:8080/",
          "height": 466
        }
      },
      "source": [
        "test_df.describe()"
      ],
      "execution_count": 0,
      "outputs": [
        {
          "output_type": "stream",
          "text": [
            "Rows:1035\n",
            "Cols:12\n",
            "\n",
            "\n"
          ],
          "name": "stdout"
        },
        {
          "output_type": "display_data",
          "data": {
            "text/html": [
              "<table>\n",
              "<thead>\n",
              "<tr><th>       </th><th>Allied_Nations  </th><th>Diplomatic_Meetings_Set  </th><th>Percent_Of_Forces_Mobilized  </th><th>Hostile_Nations  </th><th>Active_Threats  </th><th>Inactive_Threats  </th><th>Citizen_Fear_Index  </th><th>Closest_Threat_Distance(km)  </th><th>Aircraft_Carriers_Responding  </th><th>Troops_Mobilized(thousands)  </th><th>DEFCON_Level  </th><th>ID           </th></tr>\n",
              "</thead>\n",
              "<tbody>\n",
              "<tr><td>type   </td><td>int             </td><td>int                      </td><td>real                         </td><td>int              </td><td>real            </td><td>real              </td><td>real                </td><td>real                         </td><td>int                           </td><td>real                         </td><td>enum          </td><td>int          </td></tr>\n",
              "<tr><td>mins   </td><td>5.0             </td><td>0.0                      </td><td>0.0                          </td><td>1.0              </td><td>1.0             </td><td>7.0               </td><td>0.0418502202643     </td><td>303.16                       </td><td>0.0                           </td><td>739200.0                     </td><td>              </td><td>11.0         </td></tr>\n",
              "<tr><td>mean   </td><td>8.33140096618   </td><td>0.543961352657           </td><td>0.26993236715                </td><td>2.48502415459    </td><td>15.6951690821   </td><td>45.7130434783     </td><td>0.490473656955      </td><td>350.388888889                </td><td>0.88115942029                 </td><td>916498.035427                </td><td>              </td><td>6295.90241546</td></tr>\n",
              "<tr><td>maxs   </td><td>16.0            </td><td>1.0                      </td><td>0.79                         </td><td>15.0             </td><td>72.0            </td><td>278.0             </td><td>0.964023494861      </td><td>425.06                       </td><td>2.0                           </td><td>1232000.0                    </td><td>              </td><td>12500.0      </td></tr>\n",
              "<tr><td>sigma  </td><td>1.70824869559   </td><td>0.498304434976           </td><td>0.198585167931               </td><td>1.3399521753     </td><td>10.5715795345   </td><td>32.7443245029     </td><td>0.130032955786      </td><td>15.9459133642                </td><td>0.344032589061                </td><td>88721.0098455                </td><td>              </td><td>3663.4771028 </td></tr>\n",
              "<tr><td>zeros  </td><td>0               </td><td>472                      </td><td>96                           </td><td>0                </td><td>0               </td><td>0                 </td><td>0                   </td><td>0                            </td><td>130                           </td><td>0                            </td><td>              </td><td>0            </td></tr>\n",
              "<tr><td>missing</td><td>0               </td><td>0                        </td><td>0                            </td><td>0                </td><td>0               </td><td>0                 </td><td>0                   </td><td>0                            </td><td>0                             </td><td>0                            </td><td>0             </td><td>0            </td></tr>\n",
              "<tr><td>0      </td><td>7.0             </td><td>1.0                      </td><td>0.08                         </td><td>2.0              </td><td>42.0            </td><td>52.0              </td><td>0.357562408223      </td><td>349.8                        </td><td>1.0                           </td><td>1038400.0                    </td><td>4             </td><td>4717.0       </td></tr>\n",
              "<tr><td>1      </td><td>6.0             </td><td>0.0                      </td><td>0.0                          </td><td>2.0              </td><td>27.0            </td><td>60.0              </td><td>0.428046989721      </td><td>365.7                        </td><td>1.0                           </td><td>968000.0                     </td><td>3             </td><td>2451.0       </td></tr>\n",
              "<tr><td>2      </td><td>8.0             </td><td>0.0                      </td><td>0.48                         </td><td>3.0              </td><td>39.0            </td><td>106.0             </td><td>0.523494860499      </td><td>349.8                        </td><td>1.0                           </td><td>800800.0                     </td><td>1             </td><td>11278.0      </td></tr>\n",
              "<tr><td>3      </td><td>9.0             </td><td>0.0                      </td><td>0.48                         </td><td>4.0              </td><td>3.0             </td><td>11.0              </td><td>0.63362701909       </td><td>337.08                       </td><td>1.0                           </td><td>1029600.0                    </td><td>3             </td><td>6499.0       </td></tr>\n",
              "<tr><td>4      </td><td>7.0             </td><td>0.0                      </td><td>0.27                         </td><td>2.0              </td><td>23.0            </td><td>69.0              </td><td>0.503671071953      </td><td>381.6                        </td><td>1.0                           </td><td>827200.0                     </td><td>2             </td><td>11015.0      </td></tr>\n",
              "<tr><td>5      </td><td>12.0            </td><td>1.0                      </td><td>0.49                         </td><td>3.0              </td><td>27.0            </td><td>99.0              </td><td>0.787812041116      </td><td>330.72                       </td><td>1.0                           </td><td>836000.0                     </td><td>2             </td><td>10724.0      </td></tr>\n",
              "<tr><td>6      </td><td>8.0             </td><td>1.0                      </td><td>0.15                         </td><td>2.0              </td><td>27.0            </td><td>109.0             </td><td>0.435389133627      </td><td>326.48                       </td><td>0.0                           </td><td>888800.0                     </td><td>3             </td><td>24.0         </td></tr>\n",
              "<tr><td>7      </td><td>10.0            </td><td>0.0                      </td><td>0.58                         </td><td>3.0              </td><td>7.0             </td><td>20.0              </td><td>0.508810572687      </td><td>333.9                        </td><td>1.0                           </td><td>924000.0                     </td><td>2             </td><td>7291.0       </td></tr>\n",
              "<tr><td>8      </td><td>9.0             </td><td>1.0                      </td><td>0.3                          </td><td>2.0              </td><td>5.0             </td><td>14.0              </td><td>0.582232011747      </td><td>348.74                       </td><td>1.0                           </td><td>871200.0                     </td><td>2             </td><td>2002.0       </td></tr>\n",
              "<tr><td>9      </td><td>8.0             </td><td>1.0                      </td><td>0.02                         </td><td>1.0              </td><td>10.0            </td><td>20.0              </td><td>0.472099853157      </td><td>351.92                       </td><td>1.0                           </td><td>862400.0                     </td><td>2             </td><td>4835.0       </td></tr>\n",
              "</tbody>\n",
              "</table>"
            ]
          },
          "metadata": {
            "tags": []
          }
        }
      ]
    },
    {
      "cell_type": "code",
      "metadata": {
        "id": "22Obvf5J62cD",
        "colab_type": "code",
        "colab": {}
      },
      "source": [
        "###: Training and test dataset - columns and rows details"
      ],
      "execution_count": 0,
      "outputs": []
    },
    {
      "cell_type": "code",
      "metadata": {
        "id": "ync7DVB-62cO",
        "colab_type": "code",
        "outputId": "b849ae08-9ceb-4795-b755-7af8077300ad",
        "colab": {
          "base_uri": "https://localhost:8080/",
          "height": 50
        }
      },
      "source": [
        "print(train_df.shape)\n",
        "print(test_df.shape)"
      ],
      "execution_count": 0,
      "outputs": [
        {
          "output_type": "stream",
          "text": [
            "(8965, 12)\n",
            "(1035, 12)\n"
          ],
          "name": "stdout"
        }
      ]
    },
    {
      "cell_type": "code",
      "metadata": {
        "id": "1EmuG4vd62cY",
        "colab_type": "code",
        "colab": {}
      },
      "source": [
        "###: Training and Test Dataframes - columns names"
      ],
      "execution_count": 0,
      "outputs": []
    },
    {
      "cell_type": "code",
      "metadata": {
        "id": "D8y5aIbr62ch",
        "colab_type": "code",
        "outputId": "822c23cb-434a-41a1-e753-aa05b5c9d4c7",
        "colab": {
          "base_uri": "https://localhost:8080/",
          "height": 70
        }
      },
      "source": [
        "print(train_df.col_names)\n",
        "print(test_df.col_names)"
      ],
      "execution_count": 0,
      "outputs": [
        {
          "output_type": "stream",
          "text": [
            "[u'Allied_Nations', u'Diplomatic_Meetings_Set', u'Percent_Of_Forces_Mobilized', u'Hostile_Nations', u'Active_Threats', u'Inactive_Threats', u'Citizen_Fear_Index', u'Closest_Threat_Distance(km)', u'Aircraft_Carriers_Responding', u'Troops_Mobilized(thousands)', u'DEFCON_Level', u'ID']\n",
            "[u'Allied_Nations', u'Diplomatic_Meetings_Set', u'Percent_Of_Forces_Mobilized', u'Hostile_Nations', u'Active_Threats', u'Inactive_Threats', u'Citizen_Fear_Index', u'Closest_Threat_Distance(km)', u'Aircraft_Carriers_Responding', u'Troops_Mobilized(thousands)', u'DEFCON_Level', u'ID']\n"
          ],
          "name": "stdout"
        }
      ]
    },
    {
      "cell_type": "code",
      "metadata": {
        "id": "E6H5Ly_S62cu",
        "colab_type": "code",
        "colab": {}
      },
      "source": [
        "###: Settings all features for supervised machine learning"
      ],
      "execution_count": 0,
      "outputs": []
    },
    {
      "cell_type": "code",
      "metadata": {
        "id": "kvXxly2X62c2",
        "colab_type": "code",
        "outputId": "817825be-d5fa-4bb2-e68e-f8ff57bc9462",
        "colab": {
          "base_uri": "https://localhost:8080/",
          "height": 54
        }
      },
      "source": [
        "features = train_df.col_names\n",
        "print(features)"
      ],
      "execution_count": 0,
      "outputs": [
        {
          "output_type": "stream",
          "text": [
            "[u'Allied_Nations', u'Diplomatic_Meetings_Set', u'Percent_Of_Forces_Mobilized', u'Hostile_Nations', u'Active_Threats', u'Inactive_Threats', u'Citizen_Fear_Index', u'Closest_Threat_Distance(km)', u'Aircraft_Carriers_Responding', u'Troops_Mobilized(thousands)', u'DEFCON_Level', u'ID']\n"
          ],
          "name": "stdout"
        }
      ]
    },
    {
      "cell_type": "code",
      "metadata": {
        "id": "SXz4rkrK62c_",
        "colab_type": "code",
        "colab": {}
      },
      "source": [
        "###: Creating a list of all features we will use for machine learning"
      ],
      "execution_count": 0,
      "outputs": []
    },
    {
      "cell_type": "code",
      "metadata": {
        "id": "3GdV3S3p62dK",
        "colab_type": "code",
        "outputId": "072f6765-a475-4b04-cf7d-ee7a061b026b",
        "colab": {
          "base_uri": "https://localhost:8080/",
          "height": 54
        }
      },
      "source": [
        "features.remove(response)\n",
        "print(features)"
      ],
      "execution_count": 0,
      "outputs": [
        {
          "output_type": "stream",
          "text": [
            "[u'Allied_Nations', u'Diplomatic_Meetings_Set', u'Percent_Of_Forces_Mobilized', u'Hostile_Nations', u'Active_Threats', u'Inactive_Threats', u'Citizen_Fear_Index', u'Closest_Threat_Distance(km)', u'Aircraft_Carriers_Responding', u'Troops_Mobilized(thousands)']\n"
          ],
          "name": "stdout"
        }
      ]
    },
    {
      "cell_type": "code",
      "metadata": {
        "id": "0opSW27V62dR",
        "colab_type": "code",
        "colab": {}
      },
      "source": [
        "###: Ignoring other features which are not needed for training"
      ],
      "execution_count": 0,
      "outputs": []
    },
    {
      "cell_type": "code",
      "metadata": {
        "id": "pkf5ebAf62da",
        "colab_type": "code",
        "colab": {}
      },
      "source": [
        "for feature_name in ['ID', '....', '....']:\n",
        "    features.remove(feature_name)\n",
        "print(features)    "
      ],
      "execution_count": 0,
      "outputs": []
    },
    {
      "cell_type": "code",
      "metadata": {
        "id": "tjcD3rAy62de",
        "colab_type": "code",
        "colab": {}
      },
      "source": [
        "###: Understanding response variable values as historgram in Training data"
      ],
      "execution_count": 0,
      "outputs": []
    },
    {
      "cell_type": "code",
      "metadata": {
        "id": "LualcLFC62dl",
        "colab_type": "code",
        "outputId": "4b58f9f2-2a94-47f1-a4cb-76ed7e96c886",
        "colab": {
          "base_uri": "https://localhost:8080/",
          "height": 296
        }
      },
      "source": [
        "train_df[response].asnumeric().hist()"
      ],
      "execution_count": 0,
      "outputs": [
        {
          "output_type": "display_data",
          "data": {
            "image/png": "[encoded data removed]",
            "text/plain": [
              "<Figure size 432x288 with 1 Axes>"
            ]
          },
          "metadata": {
            "tags": []
          }
        }
      ]
    },
    {
      "cell_type": "code",
      "metadata": {
        "id": "LHwztNG462dz",
        "colab_type": "code",
        "colab": {}
      },
      "source": [
        "###: Importing H2O H2OGradientBoostingEstimator to build GBM Model"
      ],
      "execution_count": 0,
      "outputs": []
    },
    {
      "cell_type": "code",
      "metadata": {
        "id": "mp0fNEUu62d4",
        "colab_type": "code",
        "colab": {}
      },
      "source": [
        "from h2o.estimators.gbm import H2OGradientBoostingEstimator"
      ],
      "execution_count": 0,
      "outputs": []
    },
    {
      "cell_type": "code",
      "metadata": {
        "id": "ozxtT58i62d7",
        "colab_type": "code",
        "colab": {}
      },
      "source": [
        "###:Building Gradient Boosting (GBM) -  Classification model with cross validation"
      ],
      "execution_count": 0,
      "outputs": []
    },
    {
      "cell_type": "code",
      "metadata": {
        "id": "4nvKLHRW62d_",
        "colab_type": "code",
        "colab": {}
      },
      "source": [
        "gbm_model_with_cv = H2OGradientBoostingEstimator(nfolds=5)"
      ],
      "execution_count": 0,
      "outputs": []
    },
    {
      "cell_type": "code",
      "metadata": {
        "id": "X8GjwdIy62ec",
        "colab_type": "code",
        "colab": {}
      },
      "source": [
        "###: Training the model"
      ],
      "execution_count": 0,
      "outputs": []
    },
    {
      "cell_type": "code",
      "metadata": {
        "id": "vN5Zv6yP62ev",
        "colab_type": "code",
        "outputId": "7a0cf7c3-bd5a-4011-d3ef-13e8dc8ec908",
        "colab": {
          "base_uri": "https://localhost:8080/",
          "height": 34
        }
      },
      "source": [
        "gbm_model_with_cv.train(x = features, y = response, training_frame=train_df)"
      ],
      "execution_count": 0,
      "outputs": [
        {
          "output_type": "stream",
          "text": [
            "gbm Model Build progress: |███████████████████████████████████████████████| 100%\n"
          ],
          "name": "stdout"
        }
      ]
    },
    {
      "cell_type": "code",
      "metadata": {
        "id": "VRq6ATCOFkCl",
        "colab_type": "code",
        "outputId": "8a40ef15-79a1-44f1-b995-da4b20b816ff",
        "colab": {
          "base_uri": "https://localhost:8080/",
          "height": 470
        }
      },
      "source": [
        ""
      ],
      "execution_count": 0,
      "outputs": [
        {
          "output_type": "stream",
          "text": [
            "\n",
            "Confusion Matrix: Row labels: Actual class; Column labels: Predicted class\n"
          ],
          "name": "stdout"
        },
        {
          "output_type": "display_data",
          "data": {
            "text/plain": [
              "       1       2       3      4     5     Error           Rate\n",
              "0  132.0   233.0    82.0    3.0   0.0  0.706667      318 / 450\n",
              "1   35.0  3060.0   718.0   13.0   0.0  0.200209    766 / 3,826\n",
              "2    6.0   964.0  2395.0  130.0   0.0  0.314735  1,100 / 3,495\n",
              "3    4.0    76.0   445.0  565.0   2.0  0.482601    527 / 1,092\n",
              "4    0.0     8.0    25.0   33.0  36.0  0.647059       66 / 102\n",
              "5  177.0  4341.0  3665.0  744.0  38.0  0.309760  2,777 / 8,965"
            ],
            "text/html": [
              "<div>\n",
              "<style scoped>\n",
              "    .dataframe tbody tr th:only-of-type {\n",
              "        vertical-align: middle;\n",
              "    }\n",
              "\n",
              "    .dataframe tbody tr th {\n",
              "        vertical-align: top;\n",
              "    }\n",
              "\n",
              "    .dataframe thead th {\n",
              "        text-align: right;\n",
              "    }\n",
              "</style>\n",
              "<table border=\"1\" class=\"dataframe\">\n",
              "  <thead>\n",
              "    <tr style=\"text-align: right;\">\n",
              "      <th></th>\n",
              "      <th>1</th>\n",
              "      <th>2</th>\n",
              "      <th>3</th>\n",
              "      <th>4</th>\n",
              "      <th>5</th>\n",
              "      <th>Error</th>\n",
              "      <th>Rate</th>\n",
              "    </tr>\n",
              "  </thead>\n",
              "  <tbody>\n",
              "    <tr>\n",
              "      <th>0</th>\n",
              "      <td>132.0</td>\n",
              "      <td>233.0</td>\n",
              "      <td>82.0</td>\n",
              "      <td>3.0</td>\n",
              "      <td>0.0</td>\n",
              "      <td>0.706667</td>\n",
              "      <td>318 / 450</td>\n",
              "    </tr>\n",
              "    <tr>\n",
              "      <th>1</th>\n",
              "      <td>35.0</td>\n",
              "      <td>3060.0</td>\n",
              "      <td>718.0</td>\n",
              "      <td>13.0</td>\n",
              "      <td>0.0</td>\n",
              "      <td>0.200209</td>\n",
              "      <td>766 / 3,826</td>\n",
              "    </tr>\n",
              "    <tr>\n",
              "      <th>2</th>\n",
              "      <td>6.0</td>\n",
              "      <td>964.0</td>\n",
              "      <td>2395.0</td>\n",
              "      <td>130.0</td>\n",
              "      <td>0.0</td>\n",
              "      <td>0.314735</td>\n",
              "      <td>1,100 / 3,495</td>\n",
              "    </tr>\n",
              "    <tr>\n",
              "      <th>3</th>\n",
              "      <td>4.0</td>\n",
              "      <td>76.0</td>\n",
              "      <td>445.0</td>\n",
              "      <td>565.0</td>\n",
              "      <td>2.0</td>\n",
              "      <td>0.482601</td>\n",
              "      <td>527 / 1,092</td>\n",
              "    </tr>\n",
              "    <tr>\n",
              "      <th>4</th>\n",
              "      <td>0.0</td>\n",
              "      <td>8.0</td>\n",
              "      <td>25.0</td>\n",
              "      <td>33.0</td>\n",
              "      <td>36.0</td>\n",
              "      <td>0.647059</td>\n",
              "      <td>66 / 102</td>\n",
              "    </tr>\n",
              "    <tr>\n",
              "      <th>5</th>\n",
              "      <td>177.0</td>\n",
              "      <td>4341.0</td>\n",
              "      <td>3665.0</td>\n",
              "      <td>744.0</td>\n",
              "      <td>38.0</td>\n",
              "      <td>0.309760</td>\n",
              "      <td>2,777 / 8,965</td>\n",
              "    </tr>\n",
              "  </tbody>\n",
              "</table>\n",
              "</div>"
            ]
          },
          "metadata": {
            "tags": []
          }
        },
        {
          "output_type": "stream",
          "text": [
            "\n",
            "Top-5 Hit Ratios: \n"
          ],
          "name": "stdout"
        },
        {
          "output_type": "display_data",
          "data": {
            "text/plain": [
              "   k  hit_ratio\n",
              "0  1   0.690240\n",
              "1  2   0.929392\n",
              "2  3   0.992638\n",
              "3  4   0.999219\n",
              "4  5   1.000000"
            ],
            "text/html": [
              "<div>\n",
              "<style scoped>\n",
              "    .dataframe tbody tr th:only-of-type {\n",
              "        vertical-align: middle;\n",
              "    }\n",
              "\n",
              "    .dataframe tbody tr th {\n",
              "        vertical-align: top;\n",
              "    }\n",
              "\n",
              "    .dataframe thead th {\n",
              "        text-align: right;\n",
              "    }\n",
              "</style>\n",
              "<table border=\"1\" class=\"dataframe\">\n",
              "  <thead>\n",
              "    <tr style=\"text-align: right;\">\n",
              "      <th></th>\n",
              "      <th>k</th>\n",
              "      <th>hit_ratio</th>\n",
              "    </tr>\n",
              "  </thead>\n",
              "  <tbody>\n",
              "    <tr>\n",
              "      <th>0</th>\n",
              "      <td>1</td>\n",
              "      <td>0.690240</td>\n",
              "    </tr>\n",
              "    <tr>\n",
              "      <th>1</th>\n",
              "      <td>2</td>\n",
              "      <td>0.929392</td>\n",
              "    </tr>\n",
              "    <tr>\n",
              "      <th>2</th>\n",
              "      <td>3</td>\n",
              "      <td>0.992638</td>\n",
              "    </tr>\n",
              "    <tr>\n",
              "      <th>3</th>\n",
              "      <td>4</td>\n",
              "      <td>0.999219</td>\n",
              "    </tr>\n",
              "    <tr>\n",
              "      <th>4</th>\n",
              "      <td>5</td>\n",
              "      <td>1.000000</td>\n",
              "    </tr>\n",
              "  </tbody>\n",
              "</table>\n",
              "</div>"
            ]
          },
          "metadata": {
            "tags": []
          }
        }
      ]
    },
    {
      "cell_type": "code",
      "metadata": {
        "id": "EINJdj6q62e0",
        "colab_type": "code",
        "colab": {}
      },
      "source": [
        "###: Getting model performance"
      ],
      "execution_count": 0,
      "outputs": []
    },
    {
      "cell_type": "code",
      "metadata": {
        "id": "Y7GghJvq62e9",
        "colab_type": "code",
        "outputId": "7876fe96-52bf-424b-d7be-355e533a29df",
        "colab": {
          "base_uri": "https://localhost:8080/",
          "height": 470
        }
      },
      "source": [
        "#gbm_model_with_cv.model_performance(valid=True,test_data=test_df).auc()\n",
        "import json\n",
        "json_string = json.dumps(str(gbm_model_with_cv.model_performance(valid=True,test_data=test_df)._metric_json),ensure_ascii=False)\n",
        "python_dictionary = json.loads(json_string)"
      ],
      "execution_count": 0,
      "outputs": [
        {
          "output_type": "stream",
          "text": [
            "\n",
            "Confusion Matrix: Row labels: Actual class; Column labels: Predicted class\n"
          ],
          "name": "stdout"
        },
        {
          "output_type": "display_data",
          "data": {
            "text/plain": [
              "      1      2      3     4    5     Error         Rate\n",
              "0   7.0   36.0    5.0   0.0  0.0  0.854167      41 / 48\n",
              "1   6.0  334.0  101.0   3.0  0.0  0.247748    110 / 444\n",
              "2   2.0  123.0  265.0  25.0  0.0  0.361446    150 / 415\n",
              "3   2.0    9.0   70.0  39.0  0.0  0.675000     81 / 120\n",
              "4   0.0    1.0    2.0   5.0  0.0  1.000000        8 / 8\n",
              "5  17.0  503.0  443.0  72.0  0.0  0.376812  390 / 1,035"
            ],
            "text/html": [
              "<div>\n",
              "<style scoped>\n",
              "    .dataframe tbody tr th:only-of-type {\n",
              "        vertical-align: middle;\n",
              "    }\n",
              "\n",
              "    .dataframe tbody tr th {\n",
              "        vertical-align: top;\n",
              "    }\n",
              "\n",
              "    .dataframe thead th {\n",
              "        text-align: right;\n",
              "    }\n",
              "</style>\n",
              "<table border=\"1\" class=\"dataframe\">\n",
              "  <thead>\n",
              "    <tr style=\"text-align: right;\">\n",
              "      <th></th>\n",
              "      <th>1</th>\n",
              "      <th>2</th>\n",
              "      <th>3</th>\n",
              "      <th>4</th>\n",
              "      <th>5</th>\n",
              "      <th>Error</th>\n",
              "      <th>Rate</th>\n",
              "    </tr>\n",
              "  </thead>\n",
              "  <tbody>\n",
              "    <tr>\n",
              "      <th>0</th>\n",
              "      <td>7.0</td>\n",
              "      <td>36.0</td>\n",
              "      <td>5.0</td>\n",
              "      <td>0.0</td>\n",
              "      <td>0.0</td>\n",
              "      <td>0.854167</td>\n",
              "      <td>41 / 48</td>\n",
              "    </tr>\n",
              "    <tr>\n",
              "      <th>1</th>\n",
              "      <td>6.0</td>\n",
              "      <td>334.0</td>\n",
              "      <td>101.0</td>\n",
              "      <td>3.0</td>\n",
              "      <td>0.0</td>\n",
              "      <td>0.247748</td>\n",
              "      <td>110 / 444</td>\n",
              "    </tr>\n",
              "    <tr>\n",
              "      <th>2</th>\n",
              "      <td>2.0</td>\n",
              "      <td>123.0</td>\n",
              "      <td>265.0</td>\n",
              "      <td>25.0</td>\n",
              "      <td>0.0</td>\n",
              "      <td>0.361446</td>\n",
              "      <td>150 / 415</td>\n",
              "    </tr>\n",
              "    <tr>\n",
              "      <th>3</th>\n",
              "      <td>2.0</td>\n",
              "      <td>9.0</td>\n",
              "      <td>70.0</td>\n",
              "      <td>39.0</td>\n",
              "      <td>0.0</td>\n",
              "      <td>0.675000</td>\n",
              "      <td>81 / 120</td>\n",
              "    </tr>\n",
              "    <tr>\n",
              "      <th>4</th>\n",
              "      <td>0.0</td>\n",
              "      <td>1.0</td>\n",
              "      <td>2.0</td>\n",
              "      <td>5.0</td>\n",
              "      <td>0.0</td>\n",
              "      <td>1.000000</td>\n",
              "      <td>8 / 8</td>\n",
              "    </tr>\n",
              "    <tr>\n",
              "      <th>5</th>\n",
              "      <td>17.0</td>\n",
              "      <td>503.0</td>\n",
              "      <td>443.0</td>\n",
              "      <td>72.0</td>\n",
              "      <td>0.0</td>\n",
              "      <td>0.376812</td>\n",
              "      <td>390 / 1,035</td>\n",
              "    </tr>\n",
              "  </tbody>\n",
              "</table>\n",
              "</div>"
            ]
          },
          "metadata": {
            "tags": []
          }
        },
        {
          "output_type": "stream",
          "text": [
            "\n",
            "Top-5 Hit Ratios: \n"
          ],
          "name": "stdout"
        },
        {
          "output_type": "display_data",
          "data": {
            "text/plain": [
              "   k  hit_ratio\n",
              "0  1   0.623188\n",
              "1  2   0.905314\n",
              "2  3   0.979710\n",
              "3  4   0.997101\n",
              "4  5   1.000000"
            ],
            "text/html": [
              "<div>\n",
              "<style scoped>\n",
              "    .dataframe tbody tr th:only-of-type {\n",
              "        vertical-align: middle;\n",
              "    }\n",
              "\n",
              "    .dataframe tbody tr th {\n",
              "        vertical-align: top;\n",
              "    }\n",
              "\n",
              "    .dataframe thead th {\n",
              "        text-align: right;\n",
              "    }\n",
              "</style>\n",
              "<table border=\"1\" class=\"dataframe\">\n",
              "  <thead>\n",
              "    <tr style=\"text-align: right;\">\n",
              "      <th></th>\n",
              "      <th>k</th>\n",
              "      <th>hit_ratio</th>\n",
              "    </tr>\n",
              "  </thead>\n",
              "  <tbody>\n",
              "    <tr>\n",
              "      <th>0</th>\n",
              "      <td>1</td>\n",
              "      <td>0.623188</td>\n",
              "    </tr>\n",
              "    <tr>\n",
              "      <th>1</th>\n",
              "      <td>2</td>\n",
              "      <td>0.905314</td>\n",
              "    </tr>\n",
              "    <tr>\n",
              "      <th>2</th>\n",
              "      <td>3</td>\n",
              "      <td>0.979710</td>\n",
              "    </tr>\n",
              "    <tr>\n",
              "      <th>3</th>\n",
              "      <td>4</td>\n",
              "      <td>0.997101</td>\n",
              "    </tr>\n",
              "    <tr>\n",
              "      <th>4</th>\n",
              "      <td>5</td>\n",
              "      <td>1.000000</td>\n",
              "    </tr>\n",
              "  </tbody>\n",
              "</table>\n",
              "</div>"
            ]
          },
          "metadata": {
            "tags": []
          }
        }
      ]
    },
    {
      "cell_type": "code",
      "metadata": {
        "id": "_sxe4Fyb62fJ",
        "colab_type": "code",
        "colab": {}
      },
      "source": [
        "###:Building GBM classification model with cross validation and key GBM parameters configuration"
      ],
      "execution_count": 0,
      "outputs": []
    },
    {
      "cell_type": "code",
      "metadata": {
        "id": "wIERxPvl62fU",
        "colab_type": "code",
        "colab": {}
      },
      "source": [
        "gbm_model_cv_config = H2OGradientBoostingEstimator(nfolds=5,\n",
        "                                                    keep_cross_validation_predictions=True,\n",
        "                                                    fold_assignment=\"auto\",\n",
        "                                                    seed=12345)"
      ],
      "execution_count": 0,
      "outputs": []
    },
    {
      "cell_type": "code",
      "metadata": {
        "id": "rzVvWPaC62fW",
        "colab_type": "code",
        "colab": {}
      },
      "source": [
        "###: Training GBM Model"
      ],
      "execution_count": 0,
      "outputs": []
    },
    {
      "cell_type": "code",
      "metadata": {
        "id": "7qwY-hVx62fg",
        "colab_type": "code",
        "outputId": "269b2196-9d47-4209-855e-9047918f14cc",
        "colab": {
          "base_uri": "https://localhost:8080/",
          "height": 34
        }
      },
      "source": [
        "gbm_model_cv_config.train(x = features, y = response, \n",
        "                                            training_frame=train_df, \n",
        "                                           model_id = \"gbm_model_with_training_and_validtion_python\")"
      ],
      "execution_count": 0,
      "outputs": [
        {
          "output_type": "stream",
          "text": [
            "gbm Model Build progress: |███████████████████████████████████████████████| 100%\n"
          ],
          "name": "stdout"
        }
      ]
    },
    {
      "cell_type": "code",
      "metadata": {
        "id": "9MUNZl5H62fl",
        "colab_type": "code",
        "colab": {}
      },
      "source": [
        "###: Getting GBM model performance on test data"
      ],
      "execution_count": 0,
      "outputs": []
    },
    {
      "cell_type": "code",
      "metadata": {
        "id": "usuI7ER662f-",
        "colab_type": "code",
        "outputId": "169c6fc2-aec0-49c3-a53d-9e137e14a35f",
        "colab": {
          "base_uri": "https://localhost:8080/",
          "height": 470
        }
      },
      "source": [
        "#gbm_model_cv_config.model_performance(valid=True,test_data=test_df).auc()\n",
        "json_string = json.dumps(str(gbm_model_cv_config.model_performance(valid=True,test_data=test_df)._metric_json),ensure_ascii=False)\n",
        "python_dictionary = json.loads(json_string)"
      ],
      "execution_count": 0,
      "outputs": [
        {
          "output_type": "stream",
          "text": [
            "\n",
            "Confusion Matrix: Row labels: Actual class; Column labels: Predicted class\n"
          ],
          "name": "stdout"
        },
        {
          "output_type": "display_data",
          "data": {
            "text/plain": [
              "      1      2      3     4    5     Error         Rate\n",
              "0   7.0   36.0    5.0   0.0  0.0  0.854167      41 / 48\n",
              "1   6.0  334.0  101.0   3.0  0.0  0.247748    110 / 444\n",
              "2   2.0  123.0  265.0  25.0  0.0  0.361446    150 / 415\n",
              "3   2.0    9.0   70.0  39.0  0.0  0.675000     81 / 120\n",
              "4   0.0    1.0    2.0   5.0  0.0  1.000000        8 / 8\n",
              "5  17.0  503.0  443.0  72.0  0.0  0.376812  390 / 1,035"
            ],
            "text/html": [
              "<div>\n",
              "<style scoped>\n",
              "    .dataframe tbody tr th:only-of-type {\n",
              "        vertical-align: middle;\n",
              "    }\n",
              "\n",
              "    .dataframe tbody tr th {\n",
              "        vertical-align: top;\n",
              "    }\n",
              "\n",
              "    .dataframe thead th {\n",
              "        text-align: right;\n",
              "    }\n",
              "</style>\n",
              "<table border=\"1\" class=\"dataframe\">\n",
              "  <thead>\n",
              "    <tr style=\"text-align: right;\">\n",
              "      <th></th>\n",
              "      <th>1</th>\n",
              "      <th>2</th>\n",
              "      <th>3</th>\n",
              "      <th>4</th>\n",
              "      <th>5</th>\n",
              "      <th>Error</th>\n",
              "      <th>Rate</th>\n",
              "    </tr>\n",
              "  </thead>\n",
              "  <tbody>\n",
              "    <tr>\n",
              "      <th>0</th>\n",
              "      <td>7.0</td>\n",
              "      <td>36.0</td>\n",
              "      <td>5.0</td>\n",
              "      <td>0.0</td>\n",
              "      <td>0.0</td>\n",
              "      <td>0.854167</td>\n",
              "      <td>41 / 48</td>\n",
              "    </tr>\n",
              "    <tr>\n",
              "      <th>1</th>\n",
              "      <td>6.0</td>\n",
              "      <td>334.0</td>\n",
              "      <td>101.0</td>\n",
              "      <td>3.0</td>\n",
              "      <td>0.0</td>\n",
              "      <td>0.247748</td>\n",
              "      <td>110 / 444</td>\n",
              "    </tr>\n",
              "    <tr>\n",
              "      <th>2</th>\n",
              "      <td>2.0</td>\n",
              "      <td>123.0</td>\n",
              "      <td>265.0</td>\n",
              "      <td>25.0</td>\n",
              "      <td>0.0</td>\n",
              "      <td>0.361446</td>\n",
              "      <td>150 / 415</td>\n",
              "    </tr>\n",
              "    <tr>\n",
              "      <th>3</th>\n",
              "      <td>2.0</td>\n",
              "      <td>9.0</td>\n",
              "      <td>70.0</td>\n",
              "      <td>39.0</td>\n",
              "      <td>0.0</td>\n",
              "      <td>0.675000</td>\n",
              "      <td>81 / 120</td>\n",
              "    </tr>\n",
              "    <tr>\n",
              "      <th>4</th>\n",
              "      <td>0.0</td>\n",
              "      <td>1.0</td>\n",
              "      <td>2.0</td>\n",
              "      <td>5.0</td>\n",
              "      <td>0.0</td>\n",
              "      <td>1.000000</td>\n",
              "      <td>8 / 8</td>\n",
              "    </tr>\n",
              "    <tr>\n",
              "      <th>5</th>\n",
              "      <td>17.0</td>\n",
              "      <td>503.0</td>\n",
              "      <td>443.0</td>\n",
              "      <td>72.0</td>\n",
              "      <td>0.0</td>\n",
              "      <td>0.376812</td>\n",
              "      <td>390 / 1,035</td>\n",
              "    </tr>\n",
              "  </tbody>\n",
              "</table>\n",
              "</div>"
            ]
          },
          "metadata": {
            "tags": []
          }
        },
        {
          "output_type": "stream",
          "text": [
            "\n",
            "Top-5 Hit Ratios: \n"
          ],
          "name": "stdout"
        },
        {
          "output_type": "display_data",
          "data": {
            "text/plain": [
              "   k  hit_ratio\n",
              "0  1   0.623188\n",
              "1  2   0.905314\n",
              "2  3   0.979710\n",
              "3  4   0.997101\n",
              "4  5   1.000000"
            ],
            "text/html": [
              "<div>\n",
              "<style scoped>\n",
              "    .dataframe tbody tr th:only-of-type {\n",
              "        vertical-align: middle;\n",
              "    }\n",
              "\n",
              "    .dataframe tbody tr th {\n",
              "        vertical-align: top;\n",
              "    }\n",
              "\n",
              "    .dataframe thead th {\n",
              "        text-align: right;\n",
              "    }\n",
              "</style>\n",
              "<table border=\"1\" class=\"dataframe\">\n",
              "  <thead>\n",
              "    <tr style=\"text-align: right;\">\n",
              "      <th></th>\n",
              "      <th>k</th>\n",
              "      <th>hit_ratio</th>\n",
              "    </tr>\n",
              "  </thead>\n",
              "  <tbody>\n",
              "    <tr>\n",
              "      <th>0</th>\n",
              "      <td>1</td>\n",
              "      <td>0.623188</td>\n",
              "    </tr>\n",
              "    <tr>\n",
              "      <th>1</th>\n",
              "      <td>2</td>\n",
              "      <td>0.905314</td>\n",
              "    </tr>\n",
              "    <tr>\n",
              "      <th>2</th>\n",
              "      <td>3</td>\n",
              "      <td>0.979710</td>\n",
              "    </tr>\n",
              "    <tr>\n",
              "      <th>3</th>\n",
              "      <td>4</td>\n",
              "      <td>0.997101</td>\n",
              "    </tr>\n",
              "    <tr>\n",
              "      <th>4</th>\n",
              "      <td>5</td>\n",
              "      <td>1.000000</td>\n",
              "    </tr>\n",
              "  </tbody>\n",
              "</table>\n",
              "</div>"
            ]
          },
          "metadata": {
            "tags": []
          }
        }
      ]
    },
    {
      "cell_type": "code",
      "metadata": {
        "id": "tkeZQlDM62gD",
        "colab_type": "code",
        "colab": {}
      },
      "source": [
        "###: Importing H2O Grid Library"
      ],
      "execution_count": 0,
      "outputs": []
    },
    {
      "cell_type": "code",
      "metadata": {
        "id": "Y_jXx4mt62gI",
        "colab_type": "code",
        "colab": {}
      },
      "source": [
        "from h2o.grid import H2OGridSearch"
      ],
      "execution_count": 0,
      "outputs": []
    },
    {
      "cell_type": "code",
      "metadata": {
        "id": "Jn38pLcq62gL",
        "colab_type": "code",
        "colab": {}
      },
      "source": [
        "###: Settings GBM grid parameters"
      ],
      "execution_count": 0,
      "outputs": []
    },
    {
      "cell_type": "code",
      "metadata": {
        "id": "_allc7bY62gQ",
        "colab_type": "code",
        "colab": {}
      },
      "source": [
        "gbm_hyper_params = {\"learn_rate\": [0.01, 0.05, 0.1, 0.2, 0.5, 1.0],\n",
        "                \"max_depth\": [ 5, 7, 10],\n",
        "                \"sample_rate\": [0.5, 0.75, 1.0],\n",
        "                \"col_sample_rate\": [0.5, 0.6, 0.7, 0.8]}"
      ],
      "execution_count": 0,
      "outputs": []
    },
    {
      "cell_type": "code",
      "metadata": {
        "id": "OfE1n5SE62gT",
        "colab_type": "code",
        "colab": {}
      },
      "source": [
        "###: Setting H2O Grid Search Criteria"
      ],
      "execution_count": 0,
      "outputs": []
    },
    {
      "cell_type": "code",
      "metadata": {
        "id": "y2jD2FIK62gV",
        "colab_type": "code",
        "colab": {}
      },
      "source": [
        "grid_search_criteria = { 'strategy': \"RandomDiscrete\", \n",
        "                    'seed': 123,\n",
        "                    'stopping_metric': \"AUTO\", \n",
        "                    'stopping_tolerance': 0.01,\n",
        "                    'stopping_rounds': 5 }"
      ],
      "execution_count": 0,
      "outputs": []
    },
    {
      "cell_type": "code",
      "metadata": {
        "id": "g4ZV1lcI62gZ",
        "colab_type": "code",
        "colab": {}
      },
      "source": [
        "###: Finalzing the H2O Grid searching settings"
      ],
      "execution_count": 0,
      "outputs": []
    },
    {
      "cell_type": "code",
      "metadata": {
        "id": "hd2D9Zqr62ge",
        "colab_type": "code",
        "colab": {}
      },
      "source": [
        "gbm_grid = H2OGridSearch(model=H2OGradientBoostingEstimator(\n",
        "                                                    nfolds=5,\n",
        "                                                    keep_cross_validation_predictions=True,\n",
        "                                                    fold_assignment=\"auto\",\n",
        "                                                    seed=12345),\n",
        "                     hyper_params=gbm_hyper_params,\n",
        "                     search_criteria=grid_search_criteria,\n",
        "                     grid_id=\"titnaic_gbm_grid_python\")"
      ],
      "execution_count": 0,
      "outputs": []
    },
    {
      "cell_type": "code",
      "metadata": {
        "id": "JvUCXTzT62gi",
        "colab_type": "code",
        "colab": {}
      },
      "source": [
        "###: Finally training H2O Grid with data "
      ],
      "execution_count": 0,
      "outputs": []
    },
    {
      "cell_type": "code",
      "metadata": {
        "id": "fZMu1cuq62gq",
        "colab_type": "code",
        "outputId": "aa633aa1-2886-4370-dac2-ecc307578239",
        "colab": {
          "base_uri": "https://localhost:8080/",
          "height": 34
        }
      },
      "source": [
        "gbm_grid.train(x=features, y=response, training_frame=train_df)"
      ],
      "execution_count": 0,
      "outputs": [
        {
          "output_type": "stream",
          "text": [
            "gbm Grid Build progress: |███████████████████████████████████████████████"
          ],
          "name": "stdout"
        }
      ]
    },
    {
      "cell_type": "code",
      "metadata": {
        "id": "KxILqmtZ62hA",
        "colab_type": "code",
        "colab": {}
      },
      "source": [
        "###: Finally getting total count of GBM models"
      ],
      "execution_count": 0,
      "outputs": []
    },
    {
      "cell_type": "code",
      "metadata": {
        "id": "o-QV4w9562hG",
        "colab_type": "code",
        "colab": {}
      },
      "source": [
        "len(gbm_grid)"
      ],
      "execution_count": 0,
      "outputs": []
    },
    {
      "cell_type": "code",
      "metadata": {
        "id": "bxAbN_3a62hM",
        "colab_type": "code",
        "colab": {}
      },
      "source": [
        "###: Defining a function to find the best model from the grid based on r2 or auc"
      ],
      "execution_count": 0,
      "outputs": []
    },
    {
      "cell_type": "code",
      "metadata": {
        "id": "Pd6WYKBx62hQ",
        "colab_type": "code",
        "colab": {}
      },
      "source": [
        "def find_best_model_from_grid(h2o_grid, test_parameter):    \n",
        "    model_list = []\n",
        "    for grid_item in h2o_grid:\n",
        "        if test_parameter is \"r2\":\n",
        "            if not (grid_item.r2() == \"NaN\"):\n",
        "                model_list.append(grid_item.r2())\n",
        "            else:\n",
        "                model_list.append(0.0)            \n",
        "        elif test_parameter is \"auc\":\n",
        "            if not (grid_item.auc() == \"NaN\"):\n",
        "                model_list.append(grid_item.auc())\n",
        "            else:\n",
        "                model_list.append(0.0)            \n",
        "    #print(model_list)        \n",
        "    max_index = model_list.index(max(model_list))\n",
        "    #print(max_index)\n",
        "    best_model = h2o_grid[max_index]\n",
        "    print(\"Model ID with best R2: \" +  best_model.model_id)\n",
        "    if test_parameter is \"r2\":\n",
        "        print(\"Best R2: \" +  str(best_model.r2()))\n",
        "    elif test_parameter is \"auc\":\n",
        "        print(\"Best AUC: \" +  str(best_model.auc()))\n",
        "    return best_model"
      ],
      "execution_count": 0,
      "outputs": []
    },
    {
      "cell_type": "code",
      "metadata": {
        "id": "7bkHaiwy62hb",
        "colab_type": "code",
        "colab": {}
      },
      "source": [
        "###: Applying the function to get the best model from the grid"
      ],
      "execution_count": 0,
      "outputs": []
    },
    {
      "cell_type": "code",
      "metadata": {
        "id": "85egKTmJ62he",
        "colab_type": "code",
        "colab": {}
      },
      "source": [
        "best_model = find_best_model_from_grid(gbm_grid, \"auc\")"
      ],
      "execution_count": 0,
      "outputs": []
    },
    {
      "cell_type": "code",
      "metadata": {
        "id": "8Ptmzox662hh",
        "colab_type": "code",
        "colab": {}
      },
      "source": [
        "###: Getting the best model performance on test data"
      ],
      "execution_count": 0,
      "outputs": []
    },
    {
      "cell_type": "code",
      "metadata": {
        "id": "hgTwDr6A62hw",
        "colab_type": "code",
        "colab": {}
      },
      "source": [
        "best_model.model_performance(valid=True,test_data=test_df).auc()"
      ],
      "execution_count": 0,
      "outputs": []
    },
    {
      "cell_type": "code",
      "metadata": {
        "id": "t347cXsg62h3",
        "colab_type": "code",
        "colab": {}
      },
      "source": [
        "###: Performing predictions with one of the above model"
      ],
      "execution_count": 0,
      "outputs": []
    },
    {
      "cell_type": "code",
      "metadata": {
        "id": "OaPTcLCA62h8",
        "colab_type": "code",
        "colab": {}
      },
      "source": [
        "gbm_predictions = best_model.predict(test_df)"
      ],
      "execution_count": 0,
      "outputs": []
    },
    {
      "cell_type": "code",
      "metadata": {
        "id": "q1dZvdt_62iF",
        "colab_type": "code",
        "colab": {}
      },
      "source": [
        "gbm_predictions"
      ],
      "execution_count": 0,
      "outputs": []
    },
    {
      "cell_type": "code",
      "metadata": {
        "id": "ywznOS8D62iI",
        "colab_type": "code",
        "colab": {}
      },
      "source": [
        "###: Understanding/Validating predictions based on prediction results historgram"
      ],
      "execution_count": 0,
      "outputs": []
    },
    {
      "cell_type": "code",
      "metadata": {
        "id": "ZmxSDx5-62iO",
        "colab_type": "code",
        "colab": {}
      },
      "source": [
        "gbm_predictions['predict'].asnumeric().hist()"
      ],
      "execution_count": 0,
      "outputs": []
    },
    {
      "cell_type": "code",
      "metadata": {
        "id": "9UvVzU6c62iT",
        "colab_type": "code",
        "colab": {}
      },
      "source": [
        "###: Getting Scorring History"
      ],
      "execution_count": 0,
      "outputs": []
    },
    {
      "cell_type": "code",
      "metadata": {
        "id": "Wey-kDYC62iZ",
        "colab_type": "code",
        "colab": {}
      },
      "source": [
        "best_model.scoring_history()"
      ],
      "execution_count": 0,
      "outputs": []
    },
    {
      "cell_type": "code",
      "metadata": {
        "id": "4CyvgbJ162ib",
        "colab_type": "code",
        "colab": {}
      },
      "source": [
        "###: Getting GBM model variable importance "
      ],
      "execution_count": 0,
      "outputs": []
    },
    {
      "cell_type": "code",
      "metadata": {
        "id": "fI9FZJBg62ie",
        "colab_type": "code",
        "colab": {}
      },
      "source": [
        "best_model.varimp()"
      ],
      "execution_count": 0,
      "outputs": []
    },
    {
      "cell_type": "code",
      "metadata": {
        "id": "5H9WRJ4e62if",
        "colab_type": "code",
        "colab": {}
      },
      "source": [
        "###: Getting model variable importance PLOT"
      ],
      "execution_count": 0,
      "outputs": []
    },
    {
      "cell_type": "code",
      "metadata": {
        "id": "DIGe0yA162im",
        "colab_type": "code",
        "colab": {}
      },
      "source": [
        "best_model.varimp_plot()"
      ],
      "execution_count": 0,
      "outputs": []
    },
    {
      "cell_type": "code",
      "metadata": {
        "id": "XT-T5kFX62ir",
        "colab_type": "code",
        "colab": {}
      },
      "source": [
        ""
      ],
      "execution_count": 0,
      "outputs": []
    }
  ]
}